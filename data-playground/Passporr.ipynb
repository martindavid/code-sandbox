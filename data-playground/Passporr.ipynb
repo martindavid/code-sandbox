{
 "cells": [
  {
   "cell_type": "code",
   "execution_count": 1,
   "metadata": {},
   "outputs": [],
   "source": [
    "import json\n",
    "import pandas as pd\n",
    "import requests"
   ]
  },
  {
   "cell_type": "code",
   "execution_count": 2,
   "metadata": {},
   "outputs": [],
   "source": [
    "# with open('data/courses.csv', 'r') as courses:\n",
    "#     courses_df = pd.read_csv(courses)\n",
    "\n",
    "# with open('data/schools.csv', 'r') as schools:\n",
    "#     schools_df = pd.read_csv(schools)\n",
    "    \n",
    "with open('data/schools.json', 'r') as schools_json:\n",
    "    schools_json_df = pd.read_json(schools_json)"
   ]
  },
  {
   "cell_type": "code",
   "execution_count": 5,
   "metadata": {},
   "outputs": [],
   "source": [
    "schools = []\n",
    "for index, row in schools_json_df.iterrows():\n",
    "    schools.append(row['schools'])"
   ]
  },
  {
   "cell_type": "code",
   "execution_count": 6,
   "metadata": {},
   "outputs": [],
   "source": [
    "schools_df = pd.DataFrame(schools)"
   ]
  },
  {
   "cell_type": "code",
   "execution_count": 7,
   "metadata": {},
   "outputs": [
    {
     "data": {
      "text/html": [
       "<div>\n",
       "<style scoped>\n",
       "    .dataframe tbody tr th:only-of-type {\n",
       "        vertical-align: middle;\n",
       "    }\n",
       "\n",
       "    .dataframe tbody tr th {\n",
       "        vertical-align: top;\n",
       "    }\n",
       "\n",
       "    .dataframe thead th {\n",
       "        text-align: right;\n",
       "    }\n",
       "</style>\n",
       "<table border=\"1\" class=\"dataframe\">\n",
       "  <thead>\n",
       "    <tr style=\"text-align: right;\">\n",
       "      <th></th>\n",
       "      <th>contacts</th>\n",
       "      <th>cricos_provider_code</th>\n",
       "      <th>cricos_url</th>\n",
       "      <th>institution_name</th>\n",
       "      <th>institution_trading_name</th>\n",
       "      <th>institution_type</th>\n",
       "      <th>location_capacity</th>\n",
       "      <th>locations</th>\n",
       "      <th>postal_address</th>\n",
       "      <th>website</th>\n",
       "    </tr>\n",
       "  </thead>\n",
       "  <tbody>\n",
       "    <tr>\n",
       "      <th>count</th>\n",
       "      <td>1336</td>\n",
       "      <td>1336</td>\n",
       "      <td>1336</td>\n",
       "      <td>1336</td>\n",
       "      <td>1336</td>\n",
       "      <td>1336</td>\n",
       "      <td>1336</td>\n",
       "      <td>1336</td>\n",
       "      <td>1336</td>\n",
       "      <td>1058</td>\n",
       "    </tr>\n",
       "    <tr>\n",
       "      <th>unique</th>\n",
       "      <td>1132</td>\n",
       "      <td>1143</td>\n",
       "      <td>1143</td>\n",
       "      <td>1105</td>\n",
       "      <td>1105</td>\n",
       "      <td>2</td>\n",
       "      <td>405</td>\n",
       "      <td>1151</td>\n",
       "      <td>1127</td>\n",
       "      <td>874</td>\n",
       "    </tr>\n",
       "    <tr>\n",
       "      <th>top</th>\n",
       "      <td>[{'contact_name': 'Gabriela Rodriguez', 'conta...</td>\n",
       "      <td>01682E</td>\n",
       "      <td>http://cricos.education.gov.au/Institution/Ins...</td>\n",
       "      <td>Study Group Australia Pty Limited</td>\n",
       "      <td>Study Group Australia Pty Limited</td>\n",
       "      <td>Private</td>\n",
       "      <td>20</td>\n",
       "      <td>[{'location_name': 'Adelaide (South Australia)...</td>\n",
       "      <td>Level 6\\n505 George Street\\nSYDNEY\\nNew South ...</td>\n",
       "      <td>http://www.holmesinstitute.edu.au/</td>\n",
       "    </tr>\n",
       "    <tr>\n",
       "      <th>freq</th>\n",
       "      <td>6</td>\n",
       "      <td>6</td>\n",
       "      <td>6</td>\n",
       "      <td>6</td>\n",
       "      <td>6</td>\n",
       "      <td>1308</td>\n",
       "      <td>69</td>\n",
       "      <td>6</td>\n",
       "      <td>8</td>\n",
       "      <td>8</td>\n",
       "    </tr>\n",
       "  </tbody>\n",
       "</table>\n",
       "</div>"
      ],
      "text/plain": [
       "                                                 contacts  \\\n",
       "count                                                1336   \n",
       "unique                                               1132   \n",
       "top     [{'contact_name': 'Gabriela Rodriguez', 'conta...   \n",
       "freq                                                    6   \n",
       "\n",
       "       cricos_provider_code  \\\n",
       "count                  1336   \n",
       "unique                 1143   \n",
       "top                  01682E   \n",
       "freq                      6   \n",
       "\n",
       "                                               cricos_url  \\\n",
       "count                                                1336   \n",
       "unique                                               1143   \n",
       "top     http://cricos.education.gov.au/Institution/Ins...   \n",
       "freq                                                    6   \n",
       "\n",
       "                         institution_name           institution_trading_name  \\\n",
       "count                                1336                               1336   \n",
       "unique                               1105                               1105   \n",
       "top     Study Group Australia Pty Limited  Study Group Australia Pty Limited   \n",
       "freq                                    6                                  6   \n",
       "\n",
       "       institution_type location_capacity  \\\n",
       "count              1336              1336   \n",
       "unique                2               405   \n",
       "top             Private                20   \n",
       "freq               1308                69   \n",
       "\n",
       "                                                locations  \\\n",
       "count                                                1336   \n",
       "unique                                               1151   \n",
       "top     [{'location_name': 'Adelaide (South Australia)...   \n",
       "freq                                                    6   \n",
       "\n",
       "                                           postal_address  \\\n",
       "count                                                1336   \n",
       "unique                                               1127   \n",
       "top     Level 6\\n505 George Street\\nSYDNEY\\nNew South ...   \n",
       "freq                                                    8   \n",
       "\n",
       "                                   website  \n",
       "count                                 1058  \n",
       "unique                                 874  \n",
       "top     http://www.holmesinstitute.edu.au/  \n",
       "freq                                     8  "
      ]
     },
     "execution_count": 7,
     "metadata": {},
     "output_type": "execute_result"
    }
   ],
   "source": [
    "schools_df.describe()"
   ]
  },
  {
   "cell_type": "code",
   "execution_count": 8,
   "metadata": {},
   "outputs": [
    {
     "data": {
      "text/plain": [
       "[{'qualifications': {'Field Of Education - 1st Qualification': {'broad_field': '07 - Education',\n",
       "    'narrow_field': '0700 - Education',\n",
       "    'detailed_field': '070000 - Education, n.f.d.',\n",
       "    'course_level': 'Primary School Studies',\n",
       "    'foundation_studies': 'No',\n",
       "    'work_component': 'No',\n",
       "    'course_language': 'English',\n",
       "    'duration_(weeks)': '364',\n",
       "    'estimated_total_course_cost': '71,540'}},\n",
       "  'course_name': 'Primary Years K-6',\n",
       "  'cricos_course_code': '063549G',\n",
       "  'dual_qualification': 'No'},\n",
       " {'qualifications': {'Field Of Education - 1st Qualification': {'broad_field': '07 - Education',\n",
       "    'narrow_field': '0700 - Education',\n",
       "    'detailed_field': '070000 - Education, n.f.d.',\n",
       "    'course_level': 'Junior Secondary Studies',\n",
       "    'foundation_studies': 'No',\n",
       "    'work_component': 'No',\n",
       "    'course_language': 'English',\n",
       "    'duration_(weeks)': '208',\n",
       "    'estimated_total_course_cost': '55,280'}},\n",
       "  'course_name': 'Secondary Years 7 - 10',\n",
       "  'cricos_course_code': '063550D',\n",
       "  'dual_qualification': 'No'}]"
      ]
     },
     "execution_count": 8,
     "metadata": {},
     "output_type": "execute_result"
    }
   ],
   "source": [
    "schools_df['locations'][1][0].get('courses')"
   ]
  },
  {
   "cell_type": "code",
   "execution_count": 10,
   "metadata": {},
   "outputs": [
    {
     "data": {
      "text/plain": [
       "[{'contact_name': 'Neil Haynes',\n",
       "  'contact_title': 'Chief Operating Officer',\n",
       "  'contact_phone_number': '0297457591',\n",
       "  'contact_facsimile_number': '',\n",
       "  'contact_email': None}]"
      ]
     },
     "execution_count": 10,
     "metadata": {},
     "output_type": "execute_result"
    }
   ],
   "source": [
    "schools_df['contacts'][0]"
   ]
  },
  {
   "cell_type": "code",
   "execution_count": 14,
   "metadata": {},
   "outputs": [
    {
     "data": {
      "text/plain": [
       "0    9 Wentworth Street\\nLevel 6\\nParramatta\\nNew S...\n",
       "Name: postal_address, dtype: object"
      ]
     },
     "execution_count": 14,
     "metadata": {},
     "output_type": "execute_result"
    }
   ],
   "source": [
    "schools_df.head(1)['postal_address']"
   ]
  },
  {
   "cell_type": "code",
   "execution_count": 5,
   "metadata": {},
   "outputs": [],
   "source": [
    "courses_df = courses_df.fillna('')"
   ]
  },
  {
   "cell_type": "code",
   "execution_count": 6,
   "metadata": {},
   "outputs": [
    {
     "name": "stdout",
     "output_type": "stream",
     "text": [
      "{'name': 'Ability - Melbourne', 'address': '55 Swanston St, Melbourne', 'city': 'Melbourne', 'amenities': 'Salon de descanso para estudiantes, Cocina, Salones con proyectores, Neveras, Accesso a silla de ruedas, Internet gratis, Sala de computacion, Sala de juegos', 'surrounding': 'Estacion de tren de Flinders street, Catedral de San Paul, Federation Square, Melbourne Town Hall, Biblioteca de la ciudad Flinders lane', 'logo_url': 'https://res.cloudinary.com/martin-labs/image/upload/v1557699189/passpor/school_logo/Ability.png', 'latitude': -37.8164, 'longitude': 144.9666, 'courses': [{'name': 'General English', 'course_length': 52, 'level_length': '1-12 weeks', 'max_level_length': 11, 'min_level_length': 1, 'am_tuition_offshore': 265.0, 'am_tuition_onshore': 265.0, 'pm_tuition_offshore': 225.0, 'pm_tuition_onshore': 225.0, 'enrolment_fee': 220.0, 'material_fee': 10.0, 'mat_week_frequency': 1, 'morning_timetable': 'Lun - Vie 8:30 - 2:30pm; 9:00am - 3:00pm', 'afternoon_timetable': 'Lun - Vie 5:00pm - 9:30pm', 'night_timetable': ''}, {'name': 'General English', 'course_length': 52, 'level_length': 'More than 12 weeks', 'max_level_length': 52, 'min_level_length': 12, 'am_tuition_offshore': 260.0, 'am_tuition_onshore': 260.0, 'pm_tuition_offshore': 225.0, 'pm_tuition_onshore': 225.0, 'enrolment_fee': 220.0, 'material_fee': 10.0, 'mat_week_frequency': 1, 'morning_timetable': 'Lun - Vie 8:30 - 2:30pm; 9:00am - 3:00pm', 'afternoon_timetable': 'Lun - Vie 5:00pm - 9:30pm', 'night_timetable': ''}]}\n"
     ]
    }
   ],
   "source": [
    "school_data = []\n",
    "for index, row in schools_df.fillna('').iterrows():\n",
    "    course = courses_df[courses_df['Key']==row['Name']]\n",
    "    courses_data = []\n",
    "    if len(course) > 0:\n",
    "        for index, val in course.iterrows():\n",
    "            course_data = {\n",
    "                'course_name': val['Course'].strip(),\n",
    "                'course_length': val['Course Lenght'],\n",
    "                'level_length': val['Length(Weeks)'],\n",
    "                'min_level_length': val['Min'],\n",
    "                'max_level_length': val['Max'],\n",
    "                'am_tuition_offshore': val[' AM Tuition fee (Offshore)'].strip(),\n",
    "                'am_tuition_onshore': val[' AM Tuition fee (Onshore)'].strip(),\n",
    "                'pm_tuition_offshore': val[' PM Tuition fee (Offshore)'].strip(),\n",
    "                'pm_tuition_onshore': val[' PM Tuition fee (Onshore)'],\n",
    "                'enrolment_fee': val[' Enrolment Fee'].replace('$','').strip(),\n",
    "                'material_fee': val[' Material Fee'].replace('$','').strip(),\n",
    "                'mat_week_frequency': val['Mat Week frecuency'],\n",
    "                'morning_timetable': val[' Morning Timetable'].strip(),\n",
    "                'afternoon_timetable': val['Afternoon Timetable'].strip(),\n",
    "                'night_timetable': val['Night Timetable'].strip()\n",
    "            }\n",
    "            courses_data.append(course_data)\n",
    "    \n",
    "    school = {\n",
    "        'name': row['Name'],\n",
    "        'address': row['Address'],\n",
    "        'city': row['City'],\n",
    "        'amenities': row['Amenities'],\n",
    "        'surrounding': row['Surrounding'],\n",
    "        'logo_url': row['Logo URL'],\n",
    "        'latitude': row['Latitude'],\n",
    "        'longitude': row['Longitude'],\n",
    "        'courses': courses_data\n",
    "    }\n",
    "    school_data.append(school)\n",
    "\n",
    "for data in school_data:\n",
    "    data['courses'] = [\n",
    "        {\n",
    "            'name': val['course_name'].strip(),\n",
    "            'course_length': val['course_length'],\n",
    "            'level_length': val['level_length'],\n",
    "            'max_level_length': val['max_level_length'],\n",
    "            'min_level_length': val['min_level_length'],\n",
    "            'am_tuition_offshore': 0 if val['am_tuition_offshore'].replace('$','').strip() == '' \n",
    "                 else float(val['am_tuition_offshore'].replace('$','').strip()),\n",
    "            'am_tuition_onshore': 0 if val['am_tuition_onshore'].replace('$','').strip() == ''\n",
    "                 else float(val['am_tuition_onshore'].replace('$','').strip()),\n",
    "            'pm_tuition_offshore': 0 if val['pm_tuition_offshore'].replace('$','').strip() == ''\n",
    "                 else float(val['pm_tuition_offshore'].replace('$','').strip()),\n",
    "            'pm_tuition_onshore': 0 if val['pm_tuition_onshore'].replace('$','').strip() == ''\n",
    "                 else float(val['pm_tuition_onshore'].replace('$','').strip()),\n",
    "            'enrolment_fee': 0 if val['enrolment_fee'].replace('$','').strip() == ''\n",
    "                 else float(val['enrolment_fee'].replace('$','').strip()),\n",
    "            'material_fee': 0 if val['material_fee'].replace('$','').strip() == ''\n",
    "                 else float(val['material_fee'].replace('$','').strip()),\n",
    "            'mat_week_frequency': 0 if val['mat_week_frequency'] == '' else int(val['mat_week_frequency']),\n",
    "            'morning_timetable': val['morning_timetable'],\n",
    "            'afternoon_timetable': val['afternoon_timetable'],\n",
    "            'night_timetable': val['night_timetable']\n",
    "        } for val in data['courses']\n",
    "    ]\n",
    "        \n",
    "print(school_data[0])"
   ]
  },
  {
   "cell_type": "code",
   "execution_count": 13,
   "metadata": {},
   "outputs": [
    {
     "name": "stdout",
     "output_type": "stream",
     "text": [
      "<Response [201]>\n",
      "None\n"
     ]
    }
   ],
   "source": [
    "api = \"http://localhost:8080/api/v1/schools/bulk\"\n",
    "\n",
    "try:\n",
    "    response = requests.post(api, json=school_data)\n",
    "    print(response)\n",
    "    print(response.raise_for_status())\n",
    "except Exception as e:\n",
    "    print(e)"
   ]
  },
  {
   "cell_type": "code",
   "execution_count": 7,
   "metadata": {},
   "outputs": [
    {
     "name": "stdout",
     "output_type": "stream",
     "text": [
      "<Response [201]>\n",
      "None\n"
     ]
    }
   ],
   "source": [
    "api = \"http://passporr.com/api/v1/schools/bulk\"\n",
    "\n",
    "try:\n",
    "    response = requests.post(api, json=school_data)\n",
    "    print(response)\n",
    "    print(response.raise_for_status())\n",
    "except Exception as e:\n",
    "    print(e)"
   ]
  },
  {
   "cell_type": "code",
   "execution_count": null,
   "metadata": {},
   "outputs": [],
   "source": []
  }
 ],
 "metadata": {
  "kernelspec": {
   "display_name": "Python 3",
   "language": "python",
   "name": "python3"
  },
  "language_info": {
   "codemirror_mode": {
    "name": "ipython",
    "version": 3
   },
   "file_extension": ".py",
   "mimetype": "text/x-python",
   "name": "python",
   "nbconvert_exporter": "python",
   "pygments_lexer": "ipython3",
   "version": "3.7.0"
  }
 },
 "nbformat": 4,
 "nbformat_minor": 2
}
